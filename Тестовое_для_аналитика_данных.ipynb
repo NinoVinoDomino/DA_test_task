{
  "nbformat": 4,
  "nbformat_minor": 0,
  "metadata": {
    "colab": {
      "provenance": []
    },
    "kernelspec": {
      "name": "python3",
      "display_name": "Python 3"
    },
    "language_info": {
      "name": "python"
    }
  },
  "cells": [
    {
      "cell_type": "markdown",
      "source": [
        "# Тестовое задание направление «Аналитик данных» (Data Analyst), МТС Big Data"
      ],
      "metadata": {
        "id": "XmYRagbOT6to"
      }
    },
    {
      "cell_type": "markdown",
      "source": [
        "##**Задание 1**"
      ],
      "metadata": {
        "id": "cwUYt7C-gK0i"
      }
    },
    {
      "cell_type": "markdown",
      "source": [
        "**Подключение источников, подготовка данных**"
      ],
      "metadata": {
        "id": "sMpPhRYUinzy"
      }
    },
    {
      "cell_type": "code",
      "source": [
        "import pandas as pd\n",
        "\n",
        "#считываем данные из csv (подгружаю из колаба)\n",
        "df_1 = pd.read_csv('/host_d.csv', sep=';')\n",
        "df_2 = pd.read_csv('/communication_d.csv', sep=';')\n",
        "\n"
      ],
      "metadata": {
        "id": "ILef-8GLNoov"
      },
      "execution_count": 1,
      "outputs": []
    },
    {
      "cell_type": "code",
      "source": [
        "#смотрю общую характеристику данных, проверяю на наличие пропусков\n",
        "\n",
        "df_1.info()\n",
        "df_2.info()"
      ],
      "metadata": {
        "colab": {
          "base_uri": "https://localhost:8080/"
        },
        "id": "hq5bS3KogjHG",
        "outputId": "22389f6a-f554-45ab-e83f-3d159de47e7c"
      },
      "execution_count": 2,
      "outputs": [
        {
          "output_type": "stream",
          "name": "stdout",
          "text": [
            "<class 'pandas.core.frame.DataFrame'>\n",
            "RangeIndex: 5157 entries, 0 to 5156\n",
            "Data columns (total 4 columns):\n",
            " #   Column          Non-Null Count  Dtype \n",
            "---  ------          --------------  ----- \n",
            " 0   msisdn          5157 non-null   object\n",
            " 1   request_dt      5157 non-null   object\n",
            " 2   host            5157 non-null   object\n",
            " 3   traffic_volume  5157 non-null   int64 \n",
            "dtypes: int64(1), object(3)\n",
            "memory usage: 161.3+ KB\n",
            "<class 'pandas.core.frame.DataFrame'>\n",
            "RangeIndex: 465 entries, 0 to 464\n",
            "Data columns (total 3 columns):\n",
            " #   Column           Non-Null Count  Dtype \n",
            "---  ------           --------------  ----- \n",
            " 0   msisdn           465 non-null    object\n",
            " 1   event_dt         465 non-null    object\n",
            " 2   application_flg  465 non-null    int64 \n",
            "dtypes: int64(1), object(2)\n",
            "memory usage: 11.0+ KB\n"
          ]
        }
      ]
    },
    {
      "cell_type": "code",
      "source": [
        "#делаю left join по таблице communication_d, чтобы учесть условие \"по каждому событию из таблицы коммуникаций\"\n",
        "df_merged = pd.merge(df_2, df_1, left_on=['msisdn'], right_on=['msisdn'], how='left')"
      ],
      "metadata": {
        "id": "iZbXH9MnOr1a"
      },
      "execution_count": 4,
      "outputs": []
    },
    {
      "cell_type": "markdown",
      "source": [
        "**Реализация бизнес логики**"
      ],
      "metadata": {
        "id": "8Aq0T7JAiYFT"
      }
    },
    {
      "cell_type": "code",
      "source": [
        "#реализую условие: период в 14 дней до дня события (не включая день события)\n",
        "\n",
        "#задаю формат даты\n",
        "df_merged['event_dt'] = pd.to_datetime(df_merged['event_dt'])\n",
        "df_merged['request_dt'] = pd.to_datetime(df_merged['request_dt'])\n",
        "\n",
        "#фильтрую датасет, чтобы оставить только нужные нам даты.\n",
        "#Если датасет дейсвтительно большой, то лучше его сразу уменьшить, чтобы оптимизировать ресурсы.\n",
        "\n",
        "df_merged['day_space'] = (df_merged['event_dt']-df_merged['request_dt']).dt.days #здесь добавили колонку day_space, которая расширила датасет и размножила одни и те же строки\n",
        "ddf = df_merged[(df_merged['day_space'] < 15)&(df_merged['day_space'] >=0)] #разница между датой ивента и запроса не более 15 дней\n",
        "\n",
        "print(df_merged.shape, ddf.shape) #смотрю сколько осталось записей"
      ],
      "metadata": {
        "colab": {
          "base_uri": "https://localhost:8080/"
        },
        "id": "4dNfibu_TJ4J",
        "outputId": "cd3ef86a-f59c-4750-e141-2670c2104874"
      },
      "execution_count": 17,
      "outputs": [
        {
          "output_type": "stream",
          "name": "stdout",
          "text": [
            "(5157, 7) (1506, 7)\n"
          ]
        }
      ]
    },
    {
      "cell_type": "code",
      "source": [
        "#ddf.head(15)\n",
        "#столбец day_space больше не нужен и нужно убрать задублированные данные\n",
        "ddf = ddf.drop(['day_space', 'request_dt'], axis=1)\n",
        "ddf.shape"
      ],
      "metadata": {
        "colab": {
          "base_uri": "https://localhost:8080/"
        },
        "id": "lBw0xDHHGINx",
        "outputId": "16d1fed2-bf06-4d81-98ba-e777f8f02ba2"
      },
      "execution_count": 18,
      "outputs": [
        {
          "output_type": "execute_result",
          "data": {
            "text/plain": [
              "(1506, 5)"
            ]
          },
          "metadata": {},
          "execution_count": 18
        }
      ]
    },
    {
      "cell_type": "code",
      "source": [
        "ddf['msisdn'].nunique() #341 уникальный id"
      ],
      "metadata": {
        "colab": {
          "base_uri": "https://localhost:8080/"
        },
        "id": "0uG1w0h6G8Yr",
        "outputId": "262ec7cf-3bec-42ea-caa6-0acb2ad43bad"
      },
      "execution_count": 26,
      "outputs": [
        {
          "output_type": "execute_result",
          "data": {
            "text/plain": [
              "341"
            ]
          },
          "metadata": {},
          "execution_count": 26
        }
      ]
    },
    {
      "cell_type": "code",
      "source": [
        "#реализую условие: суммарный трафик за последние 14 дней до даты события\n",
        "\n",
        "report = ddf.copy(deep=False) #создаем отдельную переменную под целевую витрину\n",
        "report = report.groupby(['msisdn', 'event_dt', 'application_flg', 'host'], as_index=False)['traffic_volume'].sum() #считаем суммарный трафик\n",
        "report"
      ],
      "metadata": {
        "id": "0LvSwzT3UOvx",
        "colab": {
          "base_uri": "https://localhost:8080/",
          "height": 424
        },
        "outputId": "8315ef7b-11c1-4abe-ac37-dfd036714cf5"
      },
      "execution_count": 37,
      "outputs": [
        {
          "output_type": "execute_result",
          "data": {
            "text/plain": [
              "                          msisdn   event_dt  application_flg  \\\n",
              "0            #abb7c#abb7c0901312 2024-01-29                0   \n",
              "1            #abb7c#abb7c0901312 2024-01-29                0   \n",
              "2            #abb7c#abb7c9826432 2024-01-16                0   \n",
              "3    #abb7c#abbc#abbc192#abbc552 2024-01-24                0   \n",
              "4    #abb7c#abbc#abbc192#abbc552 2024-01-24                0   \n",
              "..                           ...        ...              ...   \n",
              "396              #abb7c981489152 2024-01-30                0   \n",
              "397              #abb7c990200832 2024-01-21                0   \n",
              "398              #abb7c991245824 2024-01-16                0   \n",
              "399              #abb7c991915008 2024-01-20                0   \n",
              "400          #abb7c992246#abbc84 2024-01-27                0   \n",
              "\n",
              "                     host  traffic_volume  \n",
              "0            greenbank.ru          258048  \n",
              "1    yellowbank.invest.ru           14336  \n",
              "2    yellowbank.invest.ru            9216  \n",
              "3            greenbank.ru           82944  \n",
              "4    yellowbank.invest.ru            2048  \n",
              "..                    ...             ...  \n",
              "396  yellowbank.invest.ru           25600  \n",
              "397  yellowbank.invest.ru           27648  \n",
              "398  yellowbank.invest.ru           23552  \n",
              "399  yellowbank.invest.ru           31744  \n",
              "400  yellowbank.invest.ru           39936  \n",
              "\n",
              "[401 rows x 5 columns]"
            ],
            "text/html": [
              "\n",
              "  <div id=\"df-64bf373e-6acc-462c-aea6-592a656d5592\" class=\"colab-df-container\">\n",
              "    <div>\n",
              "<style scoped>\n",
              "    .dataframe tbody tr th:only-of-type {\n",
              "        vertical-align: middle;\n",
              "    }\n",
              "\n",
              "    .dataframe tbody tr th {\n",
              "        vertical-align: top;\n",
              "    }\n",
              "\n",
              "    .dataframe thead th {\n",
              "        text-align: right;\n",
              "    }\n",
              "</style>\n",
              "<table border=\"1\" class=\"dataframe\">\n",
              "  <thead>\n",
              "    <tr style=\"text-align: right;\">\n",
              "      <th></th>\n",
              "      <th>msisdn</th>\n",
              "      <th>event_dt</th>\n",
              "      <th>application_flg</th>\n",
              "      <th>host</th>\n",
              "      <th>traffic_volume</th>\n",
              "    </tr>\n",
              "  </thead>\n",
              "  <tbody>\n",
              "    <tr>\n",
              "      <th>0</th>\n",
              "      <td>#abb7c#abb7c0901312</td>\n",
              "      <td>2024-01-29</td>\n",
              "      <td>0</td>\n",
              "      <td>greenbank.ru</td>\n",
              "      <td>258048</td>\n",
              "    </tr>\n",
              "    <tr>\n",
              "      <th>1</th>\n",
              "      <td>#abb7c#abb7c0901312</td>\n",
              "      <td>2024-01-29</td>\n",
              "      <td>0</td>\n",
              "      <td>yellowbank.invest.ru</td>\n",
              "      <td>14336</td>\n",
              "    </tr>\n",
              "    <tr>\n",
              "      <th>2</th>\n",
              "      <td>#abb7c#abb7c9826432</td>\n",
              "      <td>2024-01-16</td>\n",
              "      <td>0</td>\n",
              "      <td>yellowbank.invest.ru</td>\n",
              "      <td>9216</td>\n",
              "    </tr>\n",
              "    <tr>\n",
              "      <th>3</th>\n",
              "      <td>#abb7c#abbc#abbc192#abbc552</td>\n",
              "      <td>2024-01-24</td>\n",
              "      <td>0</td>\n",
              "      <td>greenbank.ru</td>\n",
              "      <td>82944</td>\n",
              "    </tr>\n",
              "    <tr>\n",
              "      <th>4</th>\n",
              "      <td>#abb7c#abbc#abbc192#abbc552</td>\n",
              "      <td>2024-01-24</td>\n",
              "      <td>0</td>\n",
              "      <td>yellowbank.invest.ru</td>\n",
              "      <td>2048</td>\n",
              "    </tr>\n",
              "    <tr>\n",
              "      <th>...</th>\n",
              "      <td>...</td>\n",
              "      <td>...</td>\n",
              "      <td>...</td>\n",
              "      <td>...</td>\n",
              "      <td>...</td>\n",
              "    </tr>\n",
              "    <tr>\n",
              "      <th>396</th>\n",
              "      <td>#abb7c981489152</td>\n",
              "      <td>2024-01-30</td>\n",
              "      <td>0</td>\n",
              "      <td>yellowbank.invest.ru</td>\n",
              "      <td>25600</td>\n",
              "    </tr>\n",
              "    <tr>\n",
              "      <th>397</th>\n",
              "      <td>#abb7c990200832</td>\n",
              "      <td>2024-01-21</td>\n",
              "      <td>0</td>\n",
              "      <td>yellowbank.invest.ru</td>\n",
              "      <td>27648</td>\n",
              "    </tr>\n",
              "    <tr>\n",
              "      <th>398</th>\n",
              "      <td>#abb7c991245824</td>\n",
              "      <td>2024-01-16</td>\n",
              "      <td>0</td>\n",
              "      <td>yellowbank.invest.ru</td>\n",
              "      <td>23552</td>\n",
              "    </tr>\n",
              "    <tr>\n",
              "      <th>399</th>\n",
              "      <td>#abb7c991915008</td>\n",
              "      <td>2024-01-20</td>\n",
              "      <td>0</td>\n",
              "      <td>yellowbank.invest.ru</td>\n",
              "      <td>31744</td>\n",
              "    </tr>\n",
              "    <tr>\n",
              "      <th>400</th>\n",
              "      <td>#abb7c992246#abbc84</td>\n",
              "      <td>2024-01-27</td>\n",
              "      <td>0</td>\n",
              "      <td>yellowbank.invest.ru</td>\n",
              "      <td>39936</td>\n",
              "    </tr>\n",
              "  </tbody>\n",
              "</table>\n",
              "<p>401 rows × 5 columns</p>\n",
              "</div>\n",
              "    <div class=\"colab-df-buttons\">\n",
              "\n",
              "  <div class=\"colab-df-container\">\n",
              "    <button class=\"colab-df-convert\" onclick=\"convertToInteractive('df-64bf373e-6acc-462c-aea6-592a656d5592')\"\n",
              "            title=\"Convert this dataframe to an interactive table.\"\n",
              "            style=\"display:none;\">\n",
              "\n",
              "  <svg xmlns=\"http://www.w3.org/2000/svg\" height=\"24px\" viewBox=\"0 -960 960 960\">\n",
              "    <path d=\"M120-120v-720h720v720H120Zm60-500h600v-160H180v160Zm220 220h160v-160H400v160Zm0 220h160v-160H400v160ZM180-400h160v-160H180v160Zm440 0h160v-160H620v160ZM180-180h160v-160H180v160Zm440 0h160v-160H620v160Z\"/>\n",
              "  </svg>\n",
              "    </button>\n",
              "\n",
              "  <style>\n",
              "    .colab-df-container {\n",
              "      display:flex;\n",
              "      gap: 12px;\n",
              "    }\n",
              "\n",
              "    .colab-df-convert {\n",
              "      background-color: #E8F0FE;\n",
              "      border: none;\n",
              "      border-radius: 50%;\n",
              "      cursor: pointer;\n",
              "      display: none;\n",
              "      fill: #1967D2;\n",
              "      height: 32px;\n",
              "      padding: 0 0 0 0;\n",
              "      width: 32px;\n",
              "    }\n",
              "\n",
              "    .colab-df-convert:hover {\n",
              "      background-color: #E2EBFA;\n",
              "      box-shadow: 0px 1px 2px rgba(60, 64, 67, 0.3), 0px 1px 3px 1px rgba(60, 64, 67, 0.15);\n",
              "      fill: #174EA6;\n",
              "    }\n",
              "\n",
              "    .colab-df-buttons div {\n",
              "      margin-bottom: 4px;\n",
              "    }\n",
              "\n",
              "    [theme=dark] .colab-df-convert {\n",
              "      background-color: #3B4455;\n",
              "      fill: #D2E3FC;\n",
              "    }\n",
              "\n",
              "    [theme=dark] .colab-df-convert:hover {\n",
              "      background-color: #434B5C;\n",
              "      box-shadow: 0px 1px 3px 1px rgba(0, 0, 0, 0.15);\n",
              "      filter: drop-shadow(0px 1px 2px rgba(0, 0, 0, 0.3));\n",
              "      fill: #FFFFFF;\n",
              "    }\n",
              "  </style>\n",
              "\n",
              "    <script>\n",
              "      const buttonEl =\n",
              "        document.querySelector('#df-64bf373e-6acc-462c-aea6-592a656d5592 button.colab-df-convert');\n",
              "      buttonEl.style.display =\n",
              "        google.colab.kernel.accessAllowed ? 'block' : 'none';\n",
              "\n",
              "      async function convertToInteractive(key) {\n",
              "        const element = document.querySelector('#df-64bf373e-6acc-462c-aea6-592a656d5592');\n",
              "        const dataTable =\n",
              "          await google.colab.kernel.invokeFunction('convertToInteractive',\n",
              "                                                    [key], {});\n",
              "        if (!dataTable) return;\n",
              "\n",
              "        const docLinkHtml = 'Like what you see? Visit the ' +\n",
              "          '<a target=\"_blank\" href=https://colab.research.google.com/notebooks/data_table.ipynb>data table notebook</a>'\n",
              "          + ' to learn more about interactive tables.';\n",
              "        element.innerHTML = '';\n",
              "        dataTable['output_type'] = 'display_data';\n",
              "        await google.colab.output.renderOutput(dataTable, element);\n",
              "        const docLink = document.createElement('div');\n",
              "        docLink.innerHTML = docLinkHtml;\n",
              "        element.appendChild(docLink);\n",
              "      }\n",
              "    </script>\n",
              "  </div>\n",
              "\n",
              "\n",
              "<div id=\"df-4d83f6ce-4c0f-4673-bbaa-f495d8f274d7\">\n",
              "  <button class=\"colab-df-quickchart\" onclick=\"quickchart('df-4d83f6ce-4c0f-4673-bbaa-f495d8f274d7')\"\n",
              "            title=\"Suggest charts\"\n",
              "            style=\"display:none;\">\n",
              "\n",
              "<svg xmlns=\"http://www.w3.org/2000/svg\" height=\"24px\"viewBox=\"0 0 24 24\"\n",
              "     width=\"24px\">\n",
              "    <g>\n",
              "        <path d=\"M19 3H5c-1.1 0-2 .9-2 2v14c0 1.1.9 2 2 2h14c1.1 0 2-.9 2-2V5c0-1.1-.9-2-2-2zM9 17H7v-7h2v7zm4 0h-2V7h2v10zm4 0h-2v-4h2v4z\"/>\n",
              "    </g>\n",
              "</svg>\n",
              "  </button>\n",
              "\n",
              "<style>\n",
              "  .colab-df-quickchart {\n",
              "      --bg-color: #E8F0FE;\n",
              "      --fill-color: #1967D2;\n",
              "      --hover-bg-color: #E2EBFA;\n",
              "      --hover-fill-color: #174EA6;\n",
              "      --disabled-fill-color: #AAA;\n",
              "      --disabled-bg-color: #DDD;\n",
              "  }\n",
              "\n",
              "  [theme=dark] .colab-df-quickchart {\n",
              "      --bg-color: #3B4455;\n",
              "      --fill-color: #D2E3FC;\n",
              "      --hover-bg-color: #434B5C;\n",
              "      --hover-fill-color: #FFFFFF;\n",
              "      --disabled-bg-color: #3B4455;\n",
              "      --disabled-fill-color: #666;\n",
              "  }\n",
              "\n",
              "  .colab-df-quickchart {\n",
              "    background-color: var(--bg-color);\n",
              "    border: none;\n",
              "    border-radius: 50%;\n",
              "    cursor: pointer;\n",
              "    display: none;\n",
              "    fill: var(--fill-color);\n",
              "    height: 32px;\n",
              "    padding: 0;\n",
              "    width: 32px;\n",
              "  }\n",
              "\n",
              "  .colab-df-quickchart:hover {\n",
              "    background-color: var(--hover-bg-color);\n",
              "    box-shadow: 0 1px 2px rgba(60, 64, 67, 0.3), 0 1px 3px 1px rgba(60, 64, 67, 0.15);\n",
              "    fill: var(--button-hover-fill-color);\n",
              "  }\n",
              "\n",
              "  .colab-df-quickchart-complete:disabled,\n",
              "  .colab-df-quickchart-complete:disabled:hover {\n",
              "    background-color: var(--disabled-bg-color);\n",
              "    fill: var(--disabled-fill-color);\n",
              "    box-shadow: none;\n",
              "  }\n",
              "\n",
              "  .colab-df-spinner {\n",
              "    border: 2px solid var(--fill-color);\n",
              "    border-color: transparent;\n",
              "    border-bottom-color: var(--fill-color);\n",
              "    animation:\n",
              "      spin 1s steps(1) infinite;\n",
              "  }\n",
              "\n",
              "  @keyframes spin {\n",
              "    0% {\n",
              "      border-color: transparent;\n",
              "      border-bottom-color: var(--fill-color);\n",
              "      border-left-color: var(--fill-color);\n",
              "    }\n",
              "    20% {\n",
              "      border-color: transparent;\n",
              "      border-left-color: var(--fill-color);\n",
              "      border-top-color: var(--fill-color);\n",
              "    }\n",
              "    30% {\n",
              "      border-color: transparent;\n",
              "      border-left-color: var(--fill-color);\n",
              "      border-top-color: var(--fill-color);\n",
              "      border-right-color: var(--fill-color);\n",
              "    }\n",
              "    40% {\n",
              "      border-color: transparent;\n",
              "      border-right-color: var(--fill-color);\n",
              "      border-top-color: var(--fill-color);\n",
              "    }\n",
              "    60% {\n",
              "      border-color: transparent;\n",
              "      border-right-color: var(--fill-color);\n",
              "    }\n",
              "    80% {\n",
              "      border-color: transparent;\n",
              "      border-right-color: var(--fill-color);\n",
              "      border-bottom-color: var(--fill-color);\n",
              "    }\n",
              "    90% {\n",
              "      border-color: transparent;\n",
              "      border-bottom-color: var(--fill-color);\n",
              "    }\n",
              "  }\n",
              "</style>\n",
              "\n",
              "  <script>\n",
              "    async function quickchart(key) {\n",
              "      const quickchartButtonEl =\n",
              "        document.querySelector('#' + key + ' button');\n",
              "      quickchartButtonEl.disabled = true;  // To prevent multiple clicks.\n",
              "      quickchartButtonEl.classList.add('colab-df-spinner');\n",
              "      try {\n",
              "        const charts = await google.colab.kernel.invokeFunction(\n",
              "            'suggestCharts', [key], {});\n",
              "      } catch (error) {\n",
              "        console.error('Error during call to suggestCharts:', error);\n",
              "      }\n",
              "      quickchartButtonEl.classList.remove('colab-df-spinner');\n",
              "      quickchartButtonEl.classList.add('colab-df-quickchart-complete');\n",
              "    }\n",
              "    (() => {\n",
              "      let quickchartButtonEl =\n",
              "        document.querySelector('#df-4d83f6ce-4c0f-4673-bbaa-f495d8f274d7 button');\n",
              "      quickchartButtonEl.style.display =\n",
              "        google.colab.kernel.accessAllowed ? 'block' : 'none';\n",
              "    })();\n",
              "  </script>\n",
              "</div>\n",
              "    </div>\n",
              "  </div>\n"
            ],
            "application/vnd.google.colaboratory.intrinsic+json": {
              "type": "dataframe",
              "variable_name": "report",
              "summary": "{\n  \"name\": \"report\",\n  \"rows\": 401,\n  \"fields\": [\n    {\n      \"column\": \"msisdn\",\n      \"properties\": {\n        \"dtype\": \"string\",\n        \"num_unique_values\": 341,\n        \"samples\": [\n          \"#abb7c9381#abbc1392\",\n          \"#abb7c29325824\",\n          \"#abb7c281490432\"\n        ],\n        \"semantic_type\": \"\",\n        \"description\": \"\"\n      }\n    },\n    {\n      \"column\": \"event_dt\",\n      \"properties\": {\n        \"dtype\": \"date\",\n        \"min\": \"2024-01-15 00:00:00\",\n        \"max\": \"2024-01-31 00:00:00\",\n        \"num_unique_values\": 17,\n        \"samples\": [\n          \"2024-01-29 00:00:00\",\n          \"2024-01-16 00:00:00\",\n          \"2024-01-27 00:00:00\"\n        ],\n        \"semantic_type\": \"\",\n        \"description\": \"\"\n      }\n    },\n    {\n      \"column\": \"application_flg\",\n      \"properties\": {\n        \"dtype\": \"number\",\n        \"std\": 0,\n        \"min\": 0,\n        \"max\": 1,\n        \"num_unique_values\": 2,\n        \"samples\": [\n          1,\n          0\n        ],\n        \"semantic_type\": \"\",\n        \"description\": \"\"\n      }\n    },\n    {\n      \"column\": \"host\",\n      \"properties\": {\n        \"dtype\": \"category\",\n        \"num_unique_values\": 5,\n        \"samples\": [\n          \"yellowbank.invest.ru\",\n          \"redbank.invest.ru\"\n        ],\n        \"semantic_type\": \"\",\n        \"description\": \"\"\n      }\n    },\n    {\n      \"column\": \"traffic_volume\",\n      \"properties\": {\n        \"dtype\": \"number\",\n        \"std\": 469130,\n        \"min\": 1024,\n        \"max\": 5180416,\n        \"num_unique_values\": 171,\n        \"samples\": [\n          686080,\n          408576\n        ],\n        \"semantic_type\": \"\",\n        \"description\": \"\"\n      }\n    }\n  ]\n}"
            }
          },
          "metadata": {},
          "execution_count": 37
        }
      ]
    },
    {
      "cell_type": "markdown",
      "source": [
        "**Формирование целевой витрины**\n",
        "\n"
      ],
      "metadata": {
        "id": "Cy_oH2_hib3q"
      }
    },
    {
      "cell_type": "code",
      "source": [
        "report = report.rename(columns={'traffic_volume': 'sum_traffic_volume'})  #переименовываем колонки как в условии\n",
        "report.to_csv('/report.csv', index=False) #сохраняем csv"
      ],
      "metadata": {
        "id": "uRdgmfjaic6R"
      },
      "execution_count": null,
      "outputs": []
    },
    {
      "cell_type": "markdown",
      "source": [
        "##**Задание 2**"
      ],
      "metadata": {
        "id": "CN6rbeuch86c"
      }
    },
    {
      "cell_type": "markdown",
      "source": [
        "**Какими приложениями банков пользовались новые клиенты МТС Инвестиций?**"
      ],
      "metadata": {
        "id": "5Pxsz5DJuJ4u"
      }
    },
    {
      "cell_type": "code",
      "source": [
        "import matplotlib.pyplot as plt\n",
        "\n",
        "#для ответа на порос посмотрим на гистограму\n",
        "plt.hist(report['host'], bins = 10)\n",
        "plt.title(\"Какие банки использовали новые клиенты МТС\")\n",
        "plt.xlabel(\"Банки\")\n",
        "plt.xticks(rotation=40)\n",
        "plt.grid ( True )\n",
        "plt.show()\n"
      ],
      "metadata": {
        "colab": {
          "base_uri": "https://localhost:8080/",
          "height": 561
        },
        "id": "fR8EKJuwZLrR",
        "outputId": "722ea3b2-db6d-46db-cd88-15a6d8e1b2f5"
      },
      "execution_count": 38,
      "outputs": [
        {
          "output_type": "display_data",
          "data": {
            "text/plain": [
              "<Figure size 640x480 with 1 Axes>"
            ],
            "image/png": "[encoded data removed]"
          },
          "metadata": {}
        }
      ]
    },
    {
      "cell_type": "code",
      "source": [
        "report['host'].value_counts(normalize=True) #порой категориальные значения удобнее смотреть этим методом"
      ],
      "metadata": {
        "colab": {
          "base_uri": "https://localhost:8080/"
        },
        "id": "m72BHFmKloPb",
        "outputId": "647b28ea-ee5b-490a-9dfa-2cb527e16362"
      },
      "execution_count": 39,
      "outputs": [
        {
          "output_type": "execute_result",
          "data": {
            "text/plain": [
              "yellowbank.invest.ru    0.608479\n",
              "greenbank.ru            0.246883\n",
              "redbank.ru              0.099751\n",
              "yellowbank.ru           0.029925\n",
              "redbank.invest.ru       0.014963\n",
              "Name: host, dtype: float64"
            ]
          },
          "metadata": {},
          "execution_count": 39
        }
      ]
    },
    {
      "cell_type": "markdown",
      "source": [
        "**Какими приложениями банков пользовались новые клиенты МТС Инвестиций?**\n",
        "\n",
        "\n",
        "---\n",
        "\n",
        "\n",
        "**Вывод**\n",
        "\n",
        "* Исходя из построенной гистограммы можно сделать вывод, что чаще всего (с отрывом\n",
        "от предыдущего банка в 2.5 раза) пользователи yellowbank.invest.ru обращались к МТС Инвестициям. При этом пользователи того же банка, но не использовавшие продукт \"Инвестиции\" приходили в МТС Инвестиции неохотнее (самый низкий показатель). Вероятно, либо эти пользователи испытывали определенные потребности, которые частично или полностью закрывают предложения МТС Инвестиций, либо они посчитали для себя переход выгодным из-за, например, привлекательных входных предложений. Здесь стоит уточнить были ли для пользователей yellowbank.invest.ru предоставлены особые условия за переход в МТС Инвестиции.\n",
        "* Вторым оказался greenbank.ru. Поскольку нет данных о том, что пользователи этого банка ранее использовали продукт Инвестиции сложно сказать, было ли это обращение в МТС Инвестиции ради перехода или же они решили впервые для себя попробовать такой продукт, но выбрали не предложение от greenbank.ru, а МТС.\n",
        "* Пользователи redbank.ru и redbank.invest.ru обращались в МТС не так часто, относительно лидеров. Однако интересно отметить, что тех, кто ранее не использовал продукт \"Инвестиции\" в своем красном банке, но в итоге решивших попробовать его в МТС оказалось больше, чем тех, кто уже пользовался инвестициями в своем красном банке. Из этого можно сделать вывод, что пользователи redbank.invest.ru видят для себе меньше выгоды в том, чтобы переходить в другой банк."
      ],
      "metadata": {
        "id": "1xhAxK4Ri0Ki"
      }
    },
    {
      "cell_type": "markdown",
      "source": [
        "**Каким приложением пользуются самые заинтересованные в МТС Инвестициях абоненты?**\n"
      ],
      "metadata": {
        "id": "DxBtt8TluRF3"
      }
    },
    {
      "cell_type": "code",
      "source": [
        "app_y = report[report['application_flg'] == 1] #посмотрим, сколько пользователей открыли счет после коммуникации\n",
        "app_y['host'].value_counts()"
      ],
      "metadata": {
        "colab": {
          "base_uri": "https://localhost:8080/"
        },
        "id": "tzegu23Q4-gn",
        "outputId": "d60ec30a-7c85-4a18-a9ed-6ecd41a5b037"
      },
      "execution_count": 40,
      "outputs": [
        {
          "output_type": "execute_result",
          "data": {
            "text/plain": [
              "yellowbank.invest.ru    21\n",
              "redbank.ru               8\n",
              "greenbank.ru             6\n",
              "yellowbank.ru            1\n",
              "Name: host, dtype: int64"
            ]
          },
          "metadata": {},
          "execution_count": 40
        }
      ]
    },
    {
      "cell_type": "code",
      "source": [
        "#посчитаем конверсию коммуникация - открытие счета\n",
        "cnv_overall = round((len(report[report['application_flg'] == 1])/len(report['application_flg']))*100, 1)\n",
        "print(f'Общая конверсия составила {cnv_overall}%')\n",
        "\n",
        "for host in report['host'].unique():\n",
        "  app = report[report['host'] == host]\n",
        "  cnv = round((len(app[app['application_flg'] == 1])/len(app['application_flg']))*100, 1)\n",
        "  print(f'Конверсия от пользователей {host} составила {cnv}%')"
      ],
      "metadata": {
        "colab": {
          "base_uri": "https://localhost:8080/"
        },
        "id": "0gN2-Uxs5hvL",
        "outputId": "65ea111f-f334-4fce-d0dd-4e4167f55d3d"
      },
      "execution_count": 41,
      "outputs": [
        {
          "output_type": "stream",
          "name": "stdout",
          "text": [
            "Общая конверсия составила 9.0%\n",
            "Конверсия от пользователей greenbank.ru составила 6.1%\n",
            "Конверсия от пользователей yellowbank.invest.ru составила 8.6%\n",
            "Конверсия от пользователей yellowbank.ru составила 8.3%\n",
            "Конверсия от пользователей redbank.ru составила 20.0%\n",
            "Конверсия от пользователей redbank.invest.ru составила 0.0%\n"
          ]
        }
      ]
    },
    {
      "cell_type": "code",
      "source": [
        "#посмотрим на piechart конверсии\n",
        "labels = 'yellowbank.invest.ru', 'redbank.ru', 'greenbank.ru', 'redbank.invest.ru', 'yellowbank.ru'\n",
        "sizes = [12, 18.3, 5.9, 0.1, 5.6]\n",
        "\n",
        "fig, ax = plt.subplots()\n",
        "plt.title(\"Конверсия по клиентом разных банков\")\n",
        "ax.pie(sizes, labels=labels,  autopct='%1.1f%%', colors=['yellow', 'red', 'green', 'pink', 'ivory']);"
      ],
      "metadata": {
        "colab": {
          "base_uri": "https://localhost:8080/",
          "height": 429
        },
        "id": "CsCkvEK0-q4w",
        "outputId": "f75fb4dd-2e19-4385-b778-9b4f34f3346a"
      },
      "execution_count": 42,
      "outputs": [
        {
          "output_type": "display_data",
          "data": {
            "text/plain": [
              "<Figure size 640x480 with 1 Axes>"
            ],
            "image/png": "[encoded data removed]"
          },
          "metadata": {}
        }
      ]
    },
    {
      "cell_type": "markdown",
      "source": [
        "**Вывод**\n",
        "\n",
        "---\n",
        "* Несмотря на то, что исходя из предыдущего пункта самые заинтересованные в переходе в МТС Инвестиции оказались пользователи yellowbank.invest.ru видно, что самые заинтересованные были пользователи redbank.ru. Они чаще всего переходили к ***целевому действию***: заявка на открытие брокерского\n",
        "счета после коммуникации.\n",
        "* При этом из обратившихся пользователей redbank.invest.ru после коммуникации никто не создал заявки на открытие брокерского счета. Снова видим, что эти пользователи не видят для себя выгоды в продукте МТС.\n",
        "* Конверсия пользователей yellowbank.invest.ru заняла второе место, а по обращениям они занимали первое. Можно сделать вывод, что часть клиентов передумали открывать счет, узнав полные условия использования продукта.\n",
        "* Пользователи greenbank.ru и yellowbank.ru имеют конверсию на одном уровне, однако почти в 2 раза ниже, чем у лидеров. Здесь стоит учесть, что эти клиенты, вероятно, не использовали инвестиции ранее (по крайней мере, они пришли из просто банков), а значит их порог доверия и желание начать заниматься инвестициями могут быть потенциальными причинами таких показателей конверсии.\n"
      ],
      "metadata": {
        "id": "v8FppZSI8RDT"
      }
    },
    {
      "cell_type": "markdown",
      "source": [
        "**Оценим динамику полученных от абонентов данных по дням за данный период**"
      ],
      "metadata": {
        "id": "9X589x-bvBHp"
      }
    },
    {
      "cell_type": "code",
      "source": [
        "pvt = round(pd.pivot_table(report,\n",
        "\t\tindex='host',\n",
        "\t\tcolumns='event_dt',\n",
        "\t\tvalues='sum_traffic_volume',\n",
        "\t\taggfunc='mean',\n",
        "    fill_value=0))\n",
        "pvt #посмотрим на сводную таблицу средних значений суммарного трафика по дням"
      ],
      "metadata": {
        "colab": {
          "base_uri": "https://localhost:8080/",
          "height": 275
        },
        "id": "k8nZ_gDXeY5W",
        "outputId": "a9849023-8090-4d96-b735-2782ca20ce00"
      },
      "execution_count": null,
      "outputs": [
        {
          "output_type": "execute_result",
          "data": {
            "text/plain": [
              "event_dt              2024-01-15  2024-01-16  2024-01-17  2024-01-18  \\\n",
              "host                                                                   \n",
              "greenbank.ru            694365.0    476023.0    196608.0    760724.0   \n",
              "redbank.invest.ru            0.0     97280.0     14336.0         0.0   \n",
              "redbank.ru                   0.0     97280.0    305152.0    418475.0   \n",
              "yellowbank.invest.ru     22405.0     64637.0     42628.0     84291.0   \n",
              "yellowbank.ru                0.0         0.0     14336.0    121856.0   \n",
              "\n",
              "event_dt              2024-01-19  2024-01-20  2024-01-21  2024-01-22  \\\n",
              "host                                                                   \n",
              "greenbank.ru           1030144.0    750161.0    498373.0   1107389.0   \n",
              "redbank.invest.ru            0.0         0.0         0.0    191488.0   \n",
              "redbank.ru                   0.0    722944.0     21094.0   1721685.0   \n",
              "yellowbank.invest.ru     15591.0     50887.0     33894.0    144302.0   \n",
              "yellowbank.ru                0.0     25600.0         0.0         0.0   \n",
              "\n",
              "event_dt              2024-01-23  2024-01-24  2024-01-25  2024-01-26  \\\n",
              "host                                                                   \n",
              "greenbank.ru           1132617.0    514121.0   1021347.0    708135.0   \n",
              "redbank.invest.ru            0.0         0.0   2493440.0         0.0   \n",
              "redbank.ru               31744.0    115968.0   1099776.0    252050.0   \n",
              "yellowbank.invest.ru    139989.0     41356.0    241290.0    102008.0   \n",
              "yellowbank.ru           575488.0         0.0   1868800.0    268800.0   \n",
              "\n",
              "event_dt              2024-01-27  2024-01-28  2024-01-29  2024-01-30  \\\n",
              "host                                                                   \n",
              "greenbank.ru           1545728.0    246579.0   1637793.0    711765.0   \n",
              "redbank.invest.ru            0.0         0.0      5120.0    945152.0   \n",
              "redbank.ru               23347.0    108032.0         0.0    403456.0   \n",
              "yellowbank.invest.ru    415675.0     57583.0    184885.0    126287.0   \n",
              "yellowbank.ru            10240.0     12288.0    685056.0     22528.0   \n",
              "\n",
              "event_dt              2024-01-31  \n",
              "host                              \n",
              "greenbank.ru           3034843.0  \n",
              "redbank.invest.ru            0.0  \n",
              "redbank.ru              947200.0  \n",
              "yellowbank.invest.ru     17883.0  \n",
              "yellowbank.ru           610304.0  "
            ],
            "text/html": [
              "\n",
              "  <div id=\"df-64cb5dd1-b4ef-4e05-8a37-4ac425788202\" class=\"colab-df-container\">\n",
              "    <div>\n",
              "<style scoped>\n",
              "    .dataframe tbody tr th:only-of-type {\n",
              "        vertical-align: middle;\n",
              "    }\n",
              "\n",
              "    .dataframe tbody tr th {\n",
              "        vertical-align: top;\n",
              "    }\n",
              "\n",
              "    .dataframe thead th {\n",
              "        text-align: right;\n",
              "    }\n",
              "</style>\n",
              "<table border=\"1\" class=\"dataframe\">\n",
              "  <thead>\n",
              "    <tr style=\"text-align: right;\">\n",
              "      <th>event_dt</th>\n",
              "      <th>2024-01-15</th>\n",
              "      <th>2024-01-16</th>\n",
              "      <th>2024-01-17</th>\n",
              "      <th>2024-01-18</th>\n",
              "      <th>2024-01-19</th>\n",
              "      <th>2024-01-20</th>\n",
              "      <th>2024-01-21</th>\n",
              "      <th>2024-01-22</th>\n",
              "      <th>2024-01-23</th>\n",
              "      <th>2024-01-24</th>\n",
              "      <th>2024-01-25</th>\n",
              "      <th>2024-01-26</th>\n",
              "      <th>2024-01-27</th>\n",
              "      <th>2024-01-28</th>\n",
              "      <th>2024-01-29</th>\n",
              "      <th>2024-01-30</th>\n",
              "      <th>2024-01-31</th>\n",
              "    </tr>\n",
              "    <tr>\n",
              "      <th>host</th>\n",
              "      <th></th>\n",
              "      <th></th>\n",
              "      <th></th>\n",
              "      <th></th>\n",
              "      <th></th>\n",
              "      <th></th>\n",
              "      <th></th>\n",
              "      <th></th>\n",
              "      <th></th>\n",
              "      <th></th>\n",
              "      <th></th>\n",
              "      <th></th>\n",
              "      <th></th>\n",
              "      <th></th>\n",
              "      <th></th>\n",
              "      <th></th>\n",
              "      <th></th>\n",
              "    </tr>\n",
              "  </thead>\n",
              "  <tbody>\n",
              "    <tr>\n",
              "      <th>greenbank.ru</th>\n",
              "      <td>694365.0</td>\n",
              "      <td>476023.0</td>\n",
              "      <td>196608.0</td>\n",
              "      <td>760724.0</td>\n",
              "      <td>1030144.0</td>\n",
              "      <td>750161.0</td>\n",
              "      <td>498373.0</td>\n",
              "      <td>1107389.0</td>\n",
              "      <td>1132617.0</td>\n",
              "      <td>514121.0</td>\n",
              "      <td>1021347.0</td>\n",
              "      <td>708135.0</td>\n",
              "      <td>1545728.0</td>\n",
              "      <td>246579.0</td>\n",
              "      <td>1637793.0</td>\n",
              "      <td>711765.0</td>\n",
              "      <td>3034843.0</td>\n",
              "    </tr>\n",
              "    <tr>\n",
              "      <th>redbank.invest.ru</th>\n",
              "      <td>0.0</td>\n",
              "      <td>97280.0</td>\n",
              "      <td>14336.0</td>\n",
              "      <td>0.0</td>\n",
              "      <td>0.0</td>\n",
              "      <td>0.0</td>\n",
              "      <td>0.0</td>\n",
              "      <td>191488.0</td>\n",
              "      <td>0.0</td>\n",
              "      <td>0.0</td>\n",
              "      <td>2493440.0</td>\n",
              "      <td>0.0</td>\n",
              "      <td>0.0</td>\n",
              "      <td>0.0</td>\n",
              "      <td>5120.0</td>\n",
              "      <td>945152.0</td>\n",
              "      <td>0.0</td>\n",
              "    </tr>\n",
              "    <tr>\n",
              "      <th>redbank.ru</th>\n",
              "      <td>0.0</td>\n",
              "      <td>97280.0</td>\n",
              "      <td>305152.0</td>\n",
              "      <td>418475.0</td>\n",
              "      <td>0.0</td>\n",
              "      <td>722944.0</td>\n",
              "      <td>21094.0</td>\n",
              "      <td>1721685.0</td>\n",
              "      <td>31744.0</td>\n",
              "      <td>115968.0</td>\n",
              "      <td>1099776.0</td>\n",
              "      <td>252050.0</td>\n",
              "      <td>23347.0</td>\n",
              "      <td>108032.0</td>\n",
              "      <td>0.0</td>\n",
              "      <td>403456.0</td>\n",
              "      <td>947200.0</td>\n",
              "    </tr>\n",
              "    <tr>\n",
              "      <th>yellowbank.invest.ru</th>\n",
              "      <td>22405.0</td>\n",
              "      <td>64637.0</td>\n",
              "      <td>42628.0</td>\n",
              "      <td>84291.0</td>\n",
              "      <td>15591.0</td>\n",
              "      <td>50887.0</td>\n",
              "      <td>33894.0</td>\n",
              "      <td>144302.0</td>\n",
              "      <td>139989.0</td>\n",
              "      <td>41356.0</td>\n",
              "      <td>241290.0</td>\n",
              "      <td>102008.0</td>\n",
              "      <td>415675.0</td>\n",
              "      <td>57583.0</td>\n",
              "      <td>184885.0</td>\n",
              "      <td>126287.0</td>\n",
              "      <td>17883.0</td>\n",
              "    </tr>\n",
              "    <tr>\n",
              "      <th>yellowbank.ru</th>\n",
              "      <td>0.0</td>\n",
              "      <td>0.0</td>\n",
              "      <td>14336.0</td>\n",
              "      <td>121856.0</td>\n",
              "      <td>0.0</td>\n",
              "      <td>25600.0</td>\n",
              "      <td>0.0</td>\n",
              "      <td>0.0</td>\n",
              "      <td>575488.0</td>\n",
              "      <td>0.0</td>\n",
              "      <td>1868800.0</td>\n",
              "      <td>268800.0</td>\n",
              "      <td>10240.0</td>\n",
              "      <td>12288.0</td>\n",
              "      <td>685056.0</td>\n",
              "      <td>22528.0</td>\n",
              "      <td>610304.0</td>\n",
              "    </tr>\n",
              "  </tbody>\n",
              "</table>\n",
              "</div>\n",
              "    <div class=\"colab-df-buttons\">\n",
              "\n",
              "  <div class=\"colab-df-container\">\n",
              "    <button class=\"colab-df-convert\" onclick=\"convertToInteractive('df-64cb5dd1-b4ef-4e05-8a37-4ac425788202')\"\n",
              "            title=\"Convert this dataframe to an interactive table.\"\n",
              "            style=\"display:none;\">\n",
              "\n",
              "  <svg xmlns=\"http://www.w3.org/2000/svg\" height=\"24px\" viewBox=\"0 -960 960 960\">\n",
              "    <path d=\"M120-120v-720h720v720H120Zm60-500h600v-160H180v160Zm220 220h160v-160H400v160Zm0 220h160v-160H400v160ZM180-400h160v-160H180v160Zm440 0h160v-160H620v160ZM180-180h160v-160H180v160Zm440 0h160v-160H620v160Z\"/>\n",
              "  </svg>\n",
              "    </button>\n",
              "\n",
              "  <style>\n",
              "    .colab-df-container {\n",
              "      display:flex;\n",
              "      gap: 12px;\n",
              "    }\n",
              "\n",
              "    .colab-df-convert {\n",
              "      background-color: #E8F0FE;\n",
              "      border: none;\n",
              "      border-radius: 50%;\n",
              "      cursor: pointer;\n",
              "      display: none;\n",
              "      fill: #1967D2;\n",
              "      height: 32px;\n",
              "      padding: 0 0 0 0;\n",
              "      width: 32px;\n",
              "    }\n",
              "\n",
              "    .colab-df-convert:hover {\n",
              "      background-color: #E2EBFA;\n",
              "      box-shadow: 0px 1px 2px rgba(60, 64, 67, 0.3), 0px 1px 3px 1px rgba(60, 64, 67, 0.15);\n",
              "      fill: #174EA6;\n",
              "    }\n",
              "\n",
              "    .colab-df-buttons div {\n",
              "      margin-bottom: 4px;\n",
              "    }\n",
              "\n",
              "    [theme=dark] .colab-df-convert {\n",
              "      background-color: #3B4455;\n",
              "      fill: #D2E3FC;\n",
              "    }\n",
              "\n",
              "    [theme=dark] .colab-df-convert:hover {\n",
              "      background-color: #434B5C;\n",
              "      box-shadow: 0px 1px 3px 1px rgba(0, 0, 0, 0.15);\n",
              "      filter: drop-shadow(0px 1px 2px rgba(0, 0, 0, 0.3));\n",
              "      fill: #FFFFFF;\n",
              "    }\n",
              "  </style>\n",
              "\n",
              "    <script>\n",
              "      const buttonEl =\n",
              "        document.querySelector('#df-64cb5dd1-b4ef-4e05-8a37-4ac425788202 button.colab-df-convert');\n",
              "      buttonEl.style.display =\n",
              "        google.colab.kernel.accessAllowed ? 'block' : 'none';\n",
              "\n",
              "      async function convertToInteractive(key) {\n",
              "        const element = document.querySelector('#df-64cb5dd1-b4ef-4e05-8a37-4ac425788202');\n",
              "        const dataTable =\n",
              "          await google.colab.kernel.invokeFunction('convertToInteractive',\n",
              "                                                    [key], {});\n",
              "        if (!dataTable) return;\n",
              "\n",
              "        const docLinkHtml = 'Like what you see? Visit the ' +\n",
              "          '<a target=\"_blank\" href=https://colab.research.google.com/notebooks/data_table.ipynb>data table notebook</a>'\n",
              "          + ' to learn more about interactive tables.';\n",
              "        element.innerHTML = '';\n",
              "        dataTable['output_type'] = 'display_data';\n",
              "        await google.colab.output.renderOutput(dataTable, element);\n",
              "        const docLink = document.createElement('div');\n",
              "        docLink.innerHTML = docLinkHtml;\n",
              "        element.appendChild(docLink);\n",
              "      }\n",
              "    </script>\n",
              "  </div>\n",
              "\n",
              "\n",
              "<div id=\"df-2a853140-8899-4a38-b2d9-827c12cdf35f\">\n",
              "  <button class=\"colab-df-quickchart\" onclick=\"quickchart('df-2a853140-8899-4a38-b2d9-827c12cdf35f')\"\n",
              "            title=\"Suggest charts\"\n",
              "            style=\"display:none;\">\n",
              "\n",
              "<svg xmlns=\"http://www.w3.org/2000/svg\" height=\"24px\"viewBox=\"0 0 24 24\"\n",
              "     width=\"24px\">\n",
              "    <g>\n",
              "        <path d=\"M19 3H5c-1.1 0-2 .9-2 2v14c0 1.1.9 2 2 2h14c1.1 0 2-.9 2-2V5c0-1.1-.9-2-2-2zM9 17H7v-7h2v7zm4 0h-2V7h2v10zm4 0h-2v-4h2v4z\"/>\n",
              "    </g>\n",
              "</svg>\n",
              "  </button>\n",
              "\n",
              "<style>\n",
              "  .colab-df-quickchart {\n",
              "      --bg-color: #E8F0FE;\n",
              "      --fill-color: #1967D2;\n",
              "      --hover-bg-color: #E2EBFA;\n",
              "      --hover-fill-color: #174EA6;\n",
              "      --disabled-fill-color: #AAA;\n",
              "      --disabled-bg-color: #DDD;\n",
              "  }\n",
              "\n",
              "  [theme=dark] .colab-df-quickchart {\n",
              "      --bg-color: #3B4455;\n",
              "      --fill-color: #D2E3FC;\n",
              "      --hover-bg-color: #434B5C;\n",
              "      --hover-fill-color: #FFFFFF;\n",
              "      --disabled-bg-color: #3B4455;\n",
              "      --disabled-fill-color: #666;\n",
              "  }\n",
              "\n",
              "  .colab-df-quickchart {\n",
              "    background-color: var(--bg-color);\n",
              "    border: none;\n",
              "    border-radius: 50%;\n",
              "    cursor: pointer;\n",
              "    display: none;\n",
              "    fill: var(--fill-color);\n",
              "    height: 32px;\n",
              "    padding: 0;\n",
              "    width: 32px;\n",
              "  }\n",
              "\n",
              "  .colab-df-quickchart:hover {\n",
              "    background-color: var(--hover-bg-color);\n",
              "    box-shadow: 0 1px 2px rgba(60, 64, 67, 0.3), 0 1px 3px 1px rgba(60, 64, 67, 0.15);\n",
              "    fill: var(--button-hover-fill-color);\n",
              "  }\n",
              "\n",
              "  .colab-df-quickchart-complete:disabled,\n",
              "  .colab-df-quickchart-complete:disabled:hover {\n",
              "    background-color: var(--disabled-bg-color);\n",
              "    fill: var(--disabled-fill-color);\n",
              "    box-shadow: none;\n",
              "  }\n",
              "\n",
              "  .colab-df-spinner {\n",
              "    border: 2px solid var(--fill-color);\n",
              "    border-color: transparent;\n",
              "    border-bottom-color: var(--fill-color);\n",
              "    animation:\n",
              "      spin 1s steps(1) infinite;\n",
              "  }\n",
              "\n",
              "  @keyframes spin {\n",
              "    0% {\n",
              "      border-color: transparent;\n",
              "      border-bottom-color: var(--fill-color);\n",
              "      border-left-color: var(--fill-color);\n",
              "    }\n",
              "    20% {\n",
              "      border-color: transparent;\n",
              "      border-left-color: var(--fill-color);\n",
              "      border-top-color: var(--fill-color);\n",
              "    }\n",
              "    30% {\n",
              "      border-color: transparent;\n",
              "      border-left-color: var(--fill-color);\n",
              "      border-top-color: var(--fill-color);\n",
              "      border-right-color: var(--fill-color);\n",
              "    }\n",
              "    40% {\n",
              "      border-color: transparent;\n",
              "      border-right-color: var(--fill-color);\n",
              "      border-top-color: var(--fill-color);\n",
              "    }\n",
              "    60% {\n",
              "      border-color: transparent;\n",
              "      border-right-color: var(--fill-color);\n",
              "    }\n",
              "    80% {\n",
              "      border-color: transparent;\n",
              "      border-right-color: var(--fill-color);\n",
              "      border-bottom-color: var(--fill-color);\n",
              "    }\n",
              "    90% {\n",
              "      border-color: transparent;\n",
              "      border-bottom-color: var(--fill-color);\n",
              "    }\n",
              "  }\n",
              "</style>\n",
              "\n",
              "  <script>\n",
              "    async function quickchart(key) {\n",
              "      const quickchartButtonEl =\n",
              "        document.querySelector('#' + key + ' button');\n",
              "      quickchartButtonEl.disabled = true;  // To prevent multiple clicks.\n",
              "      quickchartButtonEl.classList.add('colab-df-spinner');\n",
              "      try {\n",
              "        const charts = await google.colab.kernel.invokeFunction(\n",
              "            'suggestCharts', [key], {});\n",
              "      } catch (error) {\n",
              "        console.error('Error during call to suggestCharts:', error);\n",
              "      }\n",
              "      quickchartButtonEl.classList.remove('colab-df-spinner');\n",
              "      quickchartButtonEl.classList.add('colab-df-quickchart-complete');\n",
              "    }\n",
              "    (() => {\n",
              "      let quickchartButtonEl =\n",
              "        document.querySelector('#df-2a853140-8899-4a38-b2d9-827c12cdf35f button');\n",
              "      quickchartButtonEl.style.display =\n",
              "        google.colab.kernel.accessAllowed ? 'block' : 'none';\n",
              "    })();\n",
              "  </script>\n",
              "</div>\n",
              "    </div>\n",
              "  </div>\n"
            ],
            "application/vnd.google.colaboratory.intrinsic+json": {
              "type": "dataframe",
              "variable_name": "pvt",
              "summary": "{\n  \"name\": \"pvt\",\n  \"rows\": 5,\n  \"fields\": [\n    {\n      \"column\": \"2024-01-15 00:00:00\",\n      \"properties\": {\n        \"dtype\": \"number\",\n        \"std\": 308177.2585177239,\n        \"min\": 0.0,\n        \"max\": 694365.0,\n        \"samples\": [\n          694365.0,\n          0.0,\n          22405.0\n        ],\n        \"num_unique_values\": 3,\n        \"semantic_type\": \"\",\n        \"description\": \"\"\n      }\n    },\n    {\n      \"column\": \"2024-01-16 00:00:00\",\n      \"properties\": {\n        \"dtype\": \"number\",\n        \"std\": 188144.1903288539,\n        \"min\": 0.0,\n        \"max\": 476023.0,\n        \"samples\": [\n          97280.0,\n          0.0,\n          476023.0\n        ],\n        \"num_unique_values\": 4,\n        \"semantic_type\": \"\",\n        \"description\": \"\"\n      }\n    },\n    {\n      \"column\": \"2024-01-17 00:00:00\",\n      \"properties\": {\n        \"dtype\": \"number\",\n        \"std\": 130691.51103266042,\n        \"min\": 14336.0,\n        \"max\": 305152.0,\n        \"samples\": [\n          14336.0,\n          42628.0,\n          196608.0\n        ],\n        \"num_unique_values\": 4,\n        \"semantic_type\": \"\",\n        \"description\": \"\"\n      }\n    },\n    {\n      \"column\": \"2024-01-18 00:00:00\",\n      \"properties\": {\n        \"dtype\": \"number\",\n        \"std\": 313025.3501215197,\n        \"min\": 0.0,\n        \"max\": 760724.0,\n        \"samples\": [\n          0.0,\n          121856.0,\n          418475.0\n        ],\n        \"num_unique_values\": 5,\n        \"semantic_type\": \"\",\n        \"description\": \"\"\n      }\n    },\n    {\n      \"column\": \"2024-01-19 00:00:00\",\n      \"properties\": {\n        \"dtype\": \"number\",\n        \"std\": 459000.92646202794,\n        \"min\": 0.0,\n        \"max\": 1030144.0,\n        \"samples\": [\n          1030144.0,\n          0.0,\n          15591.0\n        ],\n        \"num_unique_values\": 3,\n        \"semantic_type\": \"\",\n        \"description\": \"\"\n      }\n    },\n    {\n      \"column\": \"2024-01-20 00:00:00\",\n      \"properties\": {\n        \"dtype\": \"number\",\n        \"std\": 389995.9379702563,\n        \"min\": 0.0,\n        \"max\": 750161.0,\n        \"samples\": [\n          0.0,\n          25600.0,\n          722944.0\n        ],\n        \"num_unique_values\": 5,\n        \"semantic_type\": \"\",\n        \"description\": \"\"\n      }\n    },\n    {\n      \"column\": \"2024-01-21 00:00:00\",\n      \"properties\": {\n        \"dtype\": \"number\",\n        \"std\": 217214.02345198614,\n        \"min\": 0.0,\n        \"max\": 498373.0,\n        \"samples\": [\n          0.0,\n          33894.0,\n          498373.0\n        ],\n        \"num_unique_values\": 4,\n        \"semantic_type\": \"\",\n        \"description\": \"\"\n      }\n    },\n    {\n      \"column\": \"2024-01-22 00:00:00\",\n      \"properties\": {\n        \"dtype\": \"number\",\n        \"std\": 749120.7396332716,\n        \"min\": 0.0,\n        \"max\": 1721685.0,\n        \"samples\": [\n          191488.0,\n          0.0,\n          1721685.0\n        ],\n        \"num_unique_values\": 5,\n        \"semantic_type\": \"\",\n        \"description\": \"\"\n      }\n    },\n    {\n      \"column\": \"2024-01-23 00:00:00\",\n      \"properties\": {\n        \"dtype\": \"number\",\n        \"std\": 481625.9251849925,\n        \"min\": 0.0,\n        \"max\": 1132617.0,\n        \"samples\": [\n          0.0,\n          575488.0,\n          31744.0\n        ],\n        \"num_unique_values\": 5,\n        \"semantic_type\": \"\",\n        \"description\": \"\"\n      }\n    },\n    {\n      \"column\": \"2024-01-24 00:00:00\",\n      \"properties\": {\n        \"dtype\": \"number\",\n        \"std\": 217549.77637083427,\n        \"min\": 0.0,\n        \"max\": 514121.0,\n        \"samples\": [\n          0.0,\n          41356.0,\n          514121.0\n        ],\n        \"num_unique_values\": 4,\n        \"semantic_type\": \"\",\n        \"description\": \"\"\n      }\n    },\n    {\n      \"column\": \"2024-01-25 00:00:00\",\n      \"properties\": {\n        \"dtype\": \"number\",\n        \"std\": 862604.0065121423,\n        \"min\": 241290.0,\n        \"max\": 2493440.0,\n        \"samples\": [\n          2493440.0,\n          1868800.0,\n          1099776.0\n        ],\n        \"num_unique_values\": 5,\n        \"semantic_type\": \"\",\n        \"description\": \"\"\n      }\n    },\n    {\n      \"column\": \"2024-01-26 00:00:00\",\n      \"properties\": {\n        \"dtype\": \"number\",\n        \"std\": 270802.0400491843,\n        \"min\": 0.0,\n        \"max\": 708135.0,\n        \"samples\": [\n          0.0,\n          268800.0,\n          252050.0\n        ],\n        \"num_unique_values\": 5,\n        \"semantic_type\": \"\",\n        \"description\": \"\"\n      }\n    },\n    {\n      \"column\": \"2024-01-27 00:00:00\",\n      \"properties\": {\n        \"dtype\": \"number\",\n        \"std\": 664588.9097024566,\n        \"min\": 0.0,\n        \"max\": 1545728.0,\n        \"samples\": [\n          0.0,\n          10240.0,\n          23347.0\n        ],\n        \"num_unique_values\": 5,\n        \"semantic_type\": \"\",\n        \"description\": \"\"\n      }\n    },\n    {\n      \"column\": \"2024-01-28 00:00:00\",\n      \"properties\": {\n        \"dtype\": \"number\",\n        \"std\": 99877.32404454976,\n        \"min\": 0.0,\n        \"max\": 246579.0,\n        \"samples\": [\n          0.0,\n          12288.0,\n          108032.0\n        ],\n        \"num_unique_values\": 5,\n        \"semantic_type\": \"\",\n        \"description\": \"\"\n      }\n    },\n    {\n      \"column\": \"2024-01-29 00:00:00\",\n      \"properties\": {\n        \"dtype\": \"number\",\n        \"std\": 693359.4425957578,\n        \"min\": 0.0,\n        \"max\": 1637793.0,\n        \"samples\": [\n          5120.0,\n          685056.0,\n          0.0\n        ],\n        \"num_unique_values\": 5,\n        \"semantic_type\": \"\",\n        \"description\": \"\"\n      }\n    },\n    {\n      \"column\": \"2024-01-30 00:00:00\",\n      \"properties\": {\n        \"dtype\": \"number\",\n        \"std\": 388282.1318156425,\n        \"min\": 22528.0,\n        \"max\": 945152.0,\n        \"samples\": [\n          945152.0,\n          22528.0,\n          403456.0\n        ],\n        \"num_unique_values\": 5,\n        \"semantic_type\": \"\",\n        \"description\": \"\"\n      }\n    },\n    {\n      \"column\": \"2024-01-31 00:00:00\",\n      \"properties\": {\n        \"dtype\": \"number\",\n        \"std\": 1247938.95265093,\n        \"min\": 0.0,\n        \"max\": 3034843.0,\n        \"samples\": [\n          0.0,\n          610304.0,\n          947200.0\n        ],\n        \"num_unique_values\": 5,\n        \"semantic_type\": \"\",\n        \"description\": \"\"\n      }\n    }\n  ]\n}"
            }
          },
          "metadata": {},
          "execution_count": 109
        }
      ]
    },
    {
      "cell_type": "code",
      "source": [
        "import seaborn as sns\n",
        "\n",
        "sns.heatmap(pvt)\n",
        "plt.xticks(rotation=45, ha='right');"
      ],
      "metadata": {
        "colab": {
          "base_uri": "https://localhost:8080/",
          "height": 626
        },
        "id": "ITBYw2QJ3IUx",
        "outputId": "04451da5-9c5c-4205-9a91-98509608913d"
      },
      "execution_count": null,
      "outputs": [
        {
          "output_type": "display_data",
          "data": {
            "text/plain": [
              "<Figure size 640x480 with 2 Axes>"
            ],
            "image/png": "[encoded data removed]"
          },
          "metadata": {}
        }
      ]
    },
    {
      "cell_type": "markdown",
      "source": [
        "**Выводы**\n",
        "\n",
        "\n",
        "---\n",
        "* Несмотря на то, что лидером оказался yellowbank.invest.ru видим, что стабильно высокая динамика трафика пользователей была у greenbank.ru в течении всего временного периода. Пользователи yellowbank.invest.ru также приходили стабильно, однако очевидный скачок можно наблюдать после ивента 20 января.\n",
        "* Самую неоднородную активность можем наблюдать у пользователей redbank.invest.ru. 25 января был пик пришедшего трафика (хорошо видно на heatmap светло-розовый прямоугольник), этот инвент принес более половины всего трафика за данный период времени.\n",
        "* Отвечая на вопрос какой ивент дал больше всего лидов стоит отметить, что пики для клиентов разных банков наблюдаются в разные дни. Вероятно, ивенты были точечно направлены на незакрытые потребности каждой из групп. 25 января для yellowbank.ru и redbank.invest.ru, 22ое для redbank.ru. Пик greenbank.ru пришелся на последний доступный для анализа день 31 января. Для yellowbank.invest.ru нельзя дать четкого ответа, активность была однородно стабильной.\n"
      ],
      "metadata": {
        "id": "GoNWSOoH0Ukp"
      }
    },
    {
      "cell_type": "markdown",
      "source": [
        "#**Общие выводы**\n",
        "\n",
        "\n",
        "---\n",
        "\n",
        "Отвечая на вопрос как влияют используемые приложения на интерес к\n",
        "продукту МТС Инвестиции можно отметить следующее:\n",
        "* Клиенты, использующее yellowbank.invest.ru чаще всего обращали свое внимание на продукт МТС Инвестиции (объем обращений за исследуемый период). Значит, проводимые МТС Инвестициями ивенты хорошо откликаются у аудитории данного банка и потенциально могут закрыть некоторые их потребности. Здесь следует более детально проанализировать, были ли для клиентуры этого банка особые акции\\предложения при переходе к продукту МТС.\n",
        "* Целевым событием для нашего продукта является заявка на открытие брокерского\n",
        "счета после коммуникации. Самый высокий показатель по этому пункту у клиентов redbank.ru и yellowbank.invest.ru банков. Видим, что почти половина (43%) клиентов, совершивших целевое действие, это клиенты redbank.ru. Можно предположить, что создание нового ивента, точечно направленного на эту аудиторию, принесет еще больший трафик. Также стоит отметить, что клиенты redbank.ru и yellowbank.invest.ru являются схожими группами клиентов, так как они проявили высокую активность после проведенных ивентов.\n",
        "* Пользователи greenbank.ru показали среднюю активность как при обращении, так и при совершении целевого действия. Стабильно приходящая после ивентов аудитория показывает, что предложение МТС является для нее привлекательной. Клиенты greenbank.ru очевидная потенциальная точка роста аудитории, на которую стоит обратить внимание.\n",
        "* Клиенты redbank.invest.ru оказались аутсайдерами. Несмотря на небольшое взаимодействие после ивента, никто из клиентов не открыл брокерский счет. Из этого можно сделать вывод, что предложение МТС Инвестиции является для них непривлекательным. Здесь можно улучшить ситуацию, введя для данной категории клиентов приветственный бонус при переходе в МТС Инвестиции. Однако сначала нужно рассчитать, окупят ли пришедшие пользователи затраты на эту промо акцию.\n",
        "\n"
      ],
      "metadata": {
        "id": "RpX2nPmLUH2M"
      }
    },
    {
      "cell_type": "markdown",
      "source": [
        "*Автор: Трещёва Нина (ninatresheva@gmail.com)*"
      ],
      "metadata": {
        "id": "GEL0sqp8ZBIc"
      }
    }
  ]
}